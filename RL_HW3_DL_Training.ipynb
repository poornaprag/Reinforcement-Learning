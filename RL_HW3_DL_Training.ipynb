{
  "nbformat": 4,
  "nbformat_minor": 0,
  "metadata": {
    "colab": {
      "name": "DL_Training_Assignment.ipynb",
      "provenance": [],
      "collapsed_sections": []
    },
    "kernelspec": {
      "name": "python3",
      "display_name": "Python 3"
    },
    "accelerator": "GPU"
  },
  "cells": [
    {
      "cell_type": "markdown",
      "metadata": {
        "id": "ug0b1LcbAfa6"
      },
      "source": [
        "RL Assignment 3  - **DL Training with Optimizations**\n",
        "\n",
        "\n",
        "\n",
        "1.   Adding He initialization (Kaiming) + Compare training results with the base model\n",
        "2.   Adding Nadam optimization + Comparing training results with the base model\n",
        "3.   Combining the two modifications into a single implementation and trying to justify and explain the results from the two enhancements\n",
        "\n"
      ]
    },
    {
      "cell_type": "code",
      "metadata": {
        "id": "SesKsUwB0g8b"
      },
      "source": [
        "import torch \n",
        "import torch.nn as nn\n",
        "import torchvision\n",
        "import torchvision.transforms as transforms"
      ],
      "execution_count": null,
      "outputs": []
    },
    {
      "cell_type": "code",
      "metadata": {
        "id": "WeRJY0x2Ht8J",
        "outputId": "ea2fdf89-09bf-4eeb-c268-aaefe71c5279",
        "colab": {
          "base_uri": "https://localhost:8080/",
          "height": 34
        }
      },
      "source": [
        "# For reproducibility\n",
        "torch.manual_seed(0)"
      ],
      "execution_count": null,
      "outputs": [
        {
          "output_type": "execute_result",
          "data": {
            "text/plain": [
              "<torch._C.Generator at 0x7f28a34c45a0>"
            ]
          },
          "metadata": {
            "tags": []
          },
          "execution_count": 266
        }
      ]
    },
    {
      "cell_type": "code",
      "metadata": {
        "id": "FRiVhYQ60mOP"
      },
      "source": [
        "# Device configuration\n",
        "device = torch.device('cuda:0' if torch.cuda.is_available() else 'cpu')"
      ],
      "execution_count": null,
      "outputs": []
    },
    {
      "cell_type": "code",
      "metadata": {
        "id": "T9Oa8zGi0svF"
      },
      "source": [
        "# Initializing Hyper parameters\n",
        "num_epochs = 5\n",
        "num_classes = 10\n",
        "batch_size = 100\n",
        "learning_rate = 0.001"
      ],
      "execution_count": null,
      "outputs": []
    },
    {
      "cell_type": "code",
      "metadata": {
        "id": "TNCDsnSP0wn9"
      },
      "source": [
        "# Obtaining MNIST dataset\n",
        "train_dataset = torchvision.datasets.MNIST(root='../../data/',\n",
        "                                           train=True, \n",
        "                                           transform=transforms.ToTensor(),\n",
        "                                           download=True)\n",
        "\n",
        "test_dataset = torchvision.datasets.MNIST(root='../../data/',\n",
        "                                          train=False, \n",
        "                                          transform=transforms.ToTensor())"
      ],
      "execution_count": null,
      "outputs": []
    },
    {
      "cell_type": "code",
      "metadata": {
        "id": "dtJlfuew00iA"
      },
      "source": [
        "# Init dataloaders\n",
        "train_loader = torch.utils.data.DataLoader(dataset=train_dataset,\n",
        "                                           batch_size=batch_size, \n",
        "                                           shuffle=True)\n",
        "\n",
        "test_loader = torch.utils.data.DataLoader(dataset=test_dataset,\n",
        "                                          batch_size=batch_size, \n",
        "                                          shuffle=False)"
      ],
      "execution_count": null,
      "outputs": []
    },
    {
      "cell_type": "code",
      "metadata": {
        "id": "LXH6BtEs04ch"
      },
      "source": [
        "# CNN (two convolutional layers)\n",
        "class ConvNet(nn.Module):\n",
        "    def __init__(self, num_classes=10):\n",
        "        super(ConvNet, self).__init__()\n",
        "        self.layer1 = nn.Sequential(\n",
        "            nn.Conv2d(1, 16, kernel_size=5, stride=1, padding=2),\n",
        "            nn.BatchNorm2d(16),\n",
        "            nn.ReLU(),\n",
        "            nn.MaxPool2d(kernel_size=2, stride=2))\n",
        "        self.layer2 = nn.Sequential(\n",
        "            nn.Conv2d(16, 32, kernel_size=5, stride=1, padding=2),\n",
        "            nn.BatchNorm2d(32),\n",
        "            nn.ReLU(),\n",
        "            nn.MaxPool2d(kernel_size=2, stride=2))\n",
        "        self.fc = nn.Linear(7*7*32, num_classes)\n",
        "        \n",
        "    def forward(self, x):\n",
        "        out = self.layer1(x)\n",
        "        out = self.layer2(out)\n",
        "        out = out.reshape(out.size(0), -1)\n",
        "        out = self.fc(out)\n",
        "        return out"
      ],
      "execution_count": null,
      "outputs": []
    },
    {
      "cell_type": "code",
      "metadata": {
        "id": "cDSPHK1K085b"
      },
      "source": [
        "mdl = ConvNet(num_classes).to(device)"
      ],
      "execution_count": null,
      "outputs": []
    },
    {
      "cell_type": "markdown",
      "metadata": {
        "id": "BmMo_GWsBOgO"
      },
      "source": [
        " Initializing the weights of the model with He initialization (Kaiming)"
      ]
    },
    {
      "cell_type": "code",
      "metadata": {
        "id": "XWTotTzO5bhH"
      },
      "source": [
        "def weights_init(m):\n",
        "    if isinstance(m, nn.Conv2d):\n",
        "        nn.init.kaiming_uniform_(m.weight.data)\n",
        "        nn.init.zeros_(m.bias.data)"
      ],
      "execution_count": null,
      "outputs": []
    },
    {
      "cell_type": "code",
      "metadata": {
        "id": "rJkzjfpk58ut",
        "outputId": "07c9507e-9124-45f8-fab0-1c568b87e906",
        "colab": {
          "base_uri": "https://localhost:8080/",
          "height": 272
        }
      },
      "source": [
        "# Applying He initialization\n",
        "mdl.apply(weights_init)"
      ],
      "execution_count": null,
      "outputs": [
        {
          "output_type": "execute_result",
          "data": {
            "text/plain": [
              "ConvNet(\n",
              "  (layer1): Sequential(\n",
              "    (0): Conv2d(1, 16, kernel_size=(5, 5), stride=(1, 1), padding=(2, 2))\n",
              "    (1): BatchNorm2d(16, eps=1e-05, momentum=0.1, affine=True, track_running_stats=True)\n",
              "    (2): ReLU()\n",
              "    (3): MaxPool2d(kernel_size=2, stride=2, padding=0, dilation=1, ceil_mode=False)\n",
              "  )\n",
              "  (layer2): Sequential(\n",
              "    (0): Conv2d(16, 32, kernel_size=(5, 5), stride=(1, 1), padding=(2, 2))\n",
              "    (1): BatchNorm2d(32, eps=1e-05, momentum=0.1, affine=True, track_running_stats=True)\n",
              "    (2): ReLU()\n",
              "    (3): MaxPool2d(kernel_size=2, stride=2, padding=0, dilation=1, ceil_mode=False)\n",
              "  )\n",
              "  (fc): Linear(in_features=1568, out_features=10, bias=True)\n",
              ")"
            ]
          },
          "metadata": {
            "tags": []
          },
          "execution_count": 274
        }
      ]
    },
    {
      "cell_type": "code",
      "metadata": {
        "id": "4jxoHRsR0-vU"
      },
      "source": [
        "# Loss \n",
        "criterion = nn.CrossEntropyLoss()\n",
        "# optimizer\n",
        "optimizer = torch.optim.Adam(mdl.parameters(), lr=learning_rate)"
      ],
      "execution_count": null,
      "outputs": []
    },
    {
      "cell_type": "markdown",
      "metadata": {
        "id": "J9axFGW4BwLP"
      },
      "source": [
        "Adding Nadam optimization to this model (Ref: https://github.com/pytorch/)"
      ]
    },
    {
      "cell_type": "code",
      "metadata": {
        "id": "ltGJOYpV8kqb"
      },
      "source": [
        "import math\n",
        "from torch.optim.optimizer import Optimizer\n",
        "\n",
        "class Nadam(Optimizer):\n",
        "    \"\"\"Implements Nadam algorithm.\n",
        "    It has been proposed in `Incorporating Nesterov Momentum into Adam`_.\n",
        "    Arguments:\n",
        "        params (iterable): iterable of parameters to optimize or dicts defining\n",
        "            parameter groups\n",
        "        lr (float, optional): learning rate (default: 2e-3)\n",
        "        betas (Tuple[float, float], optional): coefficients used for computing\n",
        "            running averages of gradient and its square (default: (0.975, 0.999))\n",
        "        eps (float, optional): term added to the denominator to improve\n",
        "            numerical stability (default: 1e-8)\n",
        "        schedule_decay (float, optional): beta1 decay factor (default: 0)\n",
        "        weight_decay (float, optional): weight decay (L2 penalty) (default: 0)\n",
        "    .. _Incorporating Nesterov Momentum into Adam\n",
        "        https://openreview.net/pdf?id=OM0jvwB8jIp57ZJjtNEZ\n",
        "    \"\"\"\n",
        "\n",
        "    def __init__(self, params, lr=2e-3, betas=(0.975, 0.999), eps=1e-8,\n",
        "                 schedule_decay=0, weight_decay=0):\n",
        "        defaults = dict(lr=lr, betas=betas, eps=eps,\n",
        "                        schedule_decay=schedule_decay, weight_decay=weight_decay,\n",
        "                        prod_beta1=1.)\n",
        "        super(Nadam, self).__init__(params, defaults)\n",
        "\n",
        "    def step(self, closure=None):\n",
        "        \"\"\"Performs a single optimization step.\n",
        "        Arguments:\n",
        "            closure (callable, optional): A closure that reevaluates the model\n",
        "                and returns the loss.\n",
        "        \"\"\"\n",
        "        loss = None\n",
        "        if closure is not None:\n",
        "            loss = closure()\n",
        "\n",
        "        for group in self.param_groups:\n",
        "            beta1, beta2 = group['betas']\n",
        "\n",
        "            for p in group['params']:\n",
        "                if p.grad is None:\n",
        "                    continue\n",
        "                grad = p.grad.data\n",
        "                state = self.state[p]\n",
        "\n",
        "                # State initialization\n",
        "                if len(state) == 0:\n",
        "                    state['step'] = 0\n",
        "                    # Exponential moving average of gradient values\n",
        "                    state['exp_avg'] = grad.new().resize_as_(grad).zero_()\n",
        "                    # Exponential moving average of squared gradient values\n",
        "                    state['exp_avg_sq'] = grad.new().resize_as_(grad).zero_()\n",
        "\n",
        "                exp_avg, exp_avg_sq = state['exp_avg'], state['exp_avg_sq']\n",
        "                state['step'] += 1\n",
        "\n",
        "                if group['weight_decay'] != 0:\n",
        "                    grad = grad.add(group['weight_decay'], p.data)\n",
        "\n",
        "                schedule_decay = group['schedule_decay']\n",
        "                cur_beta1 = beta1 * (1. - 0.5 * (0.96 ** (state['step'] * schedule_decay)))\n",
        "                next_beta1 = beta1 * (1. - 0.5 * (0.96 ** ((state['step'] + 1) * schedule_decay)))\n",
        "                prod_beta1 = group['prod_beta1']\n",
        "                prod_beta1 *= cur_beta1\n",
        "                next_prod_beta1 = prod_beta1 * next_beta1\n",
        "                bias_correction1 = (1 - cur_beta1) / (1 - prod_beta1)\n",
        "                next_bias_correction1 = next_beta1 / (1 - next_prod_beta1)\n",
        "\n",
        "                # Decay the first and second moment running average coefficient\n",
        "                exp_avg.mul_(cur_beta1).add_(1 - cur_beta1, grad)\n",
        "                exp_avg_sq.mul_(beta2).addcmul_(1 - beta2, grad, grad)\n",
        "\n",
        "                sqrt_bias_correction2 = math.sqrt((1 - beta2 ** state['step']) / beta2)\n",
        "                step_size = group['lr'] * sqrt_bias_correction2\n",
        "\n",
        "                denom = exp_avg_sq.sqrt().add_(group['eps'])\n",
        "\n",
        "                # For memory efficiency, separate update into two\n",
        "                p.data.addcdiv_(-step_size * next_bias_correction1, exp_avg, denom)\n",
        "                p.data.addcdiv_(-step_size * bias_correction1, grad, denom)\n",
        "\n",
        "                # update prod_beta1\n",
        "                group['prod_beta1'] = prod_beta1\n",
        "\n",
        "        return loss"
      ],
      "execution_count": null,
      "outputs": []
    },
    {
      "cell_type": "markdown",
      "metadata": {
        "id": "ovJfUlp8Di6R"
      },
      "source": [
        "Applying Nadam optimization and training the model"
      ]
    },
    {
      "cell_type": "code",
      "metadata": {
        "id": "K6zAAQkA1CuV",
        "outputId": "09598aca-989f-49df-8d4e-baf3b065428e",
        "colab": {
          "base_uri": "https://localhost:8080/",
          "height": 527
        }
      },
      "source": [
        "optimizer = Nadam(mdl.parameters(), lr=learning_rate)\n",
        "total_step = len(train_loader)\n",
        "for epoch in range(num_epochs):\n",
        "    for i, (images, labels) in enumerate(train_loader):\n",
        "        images = images.to(device)\n",
        "        labels = labels.to(device)\n",
        "        \n",
        "        # Forward pass\n",
        "        outputs = mdl(images)\n",
        "        loss = criterion(outputs, labels)\n",
        "        \n",
        "        # Backward and optimize\n",
        "        optimizer.zero_grad()\n",
        "        loss.backward()\n",
        "        optimizer.step()\n",
        "        \n",
        "        if (i+1) % 100 == 0:\n",
        "            print ('Epoch [{}/{}], Step [{}/{}], Loss: {:.4f}' \n",
        "                   .format(epoch+1, num_epochs, i+1, total_step, loss.item()))"
      ],
      "execution_count": null,
      "outputs": [
        {
          "output_type": "stream",
          "text": [
            "Epoch [1/5], Step [100/600], Loss: 0.1423\n",
            "Epoch [1/5], Step [200/600], Loss: 0.1485\n",
            "Epoch [1/5], Step [300/600], Loss: 0.1188\n",
            "Epoch [1/5], Step [400/600], Loss: 0.0834\n",
            "Epoch [1/5], Step [500/600], Loss: 0.1503\n",
            "Epoch [1/5], Step [600/600], Loss: 0.0579\n",
            "Epoch [2/5], Step [100/600], Loss: 0.0927\n",
            "Epoch [2/5], Step [200/600], Loss: 0.0527\n",
            "Epoch [2/5], Step [300/600], Loss: 0.0666\n",
            "Epoch [2/5], Step [400/600], Loss: 0.0888\n",
            "Epoch [2/5], Step [500/600], Loss: 0.0490\n",
            "Epoch [2/5], Step [600/600], Loss: 0.0474\n",
            "Epoch [3/5], Step [100/600], Loss: 0.0338\n",
            "Epoch [3/5], Step [200/600], Loss: 0.0321\n",
            "Epoch [3/5], Step [300/600], Loss: 0.0265\n",
            "Epoch [3/5], Step [400/600], Loss: 0.0364\n",
            "Epoch [3/5], Step [500/600], Loss: 0.0206\n",
            "Epoch [3/5], Step [600/600], Loss: 0.0232\n",
            "Epoch [4/5], Step [100/600], Loss: 0.0623\n",
            "Epoch [4/5], Step [200/600], Loss: 0.0209\n",
            "Epoch [4/5], Step [300/600], Loss: 0.0590\n",
            "Epoch [4/5], Step [400/600], Loss: 0.0174\n",
            "Epoch [4/5], Step [500/600], Loss: 0.0094\n",
            "Epoch [4/5], Step [600/600], Loss: 0.0055\n",
            "Epoch [5/5], Step [100/600], Loss: 0.0633\n",
            "Epoch [5/5], Step [200/600], Loss: 0.0313\n",
            "Epoch [5/5], Step [300/600], Loss: 0.0472\n",
            "Epoch [5/5], Step [400/600], Loss: 0.0847\n",
            "Epoch [5/5], Step [500/600], Loss: 0.0216\n",
            "Epoch [5/5], Step [600/600], Loss: 0.0645\n"
          ],
          "name": "stdout"
        }
      ]
    },
    {
      "cell_type": "code",
      "metadata": {
        "id": "xv8Quemy1Gbg",
        "outputId": "ba672a9e-41d6-4ea9-c0f4-6a96c022f596",
        "colab": {
          "base_uri": "https://localhost:8080/",
          "height": 34
        }
      },
      "source": [
        "# Model testing\n",
        "mdl.eval() \n",
        "with torch.no_grad():\n",
        "    correct = 0\n",
        "    total = 0\n",
        "    for images, labels in test_loader:\n",
        "        images = images.to(device)\n",
        "        labels = labels.to(device)\n",
        "        outputs = model(images)\n",
        "        _, predicted = torch.max(outputs.data, 1)\n",
        "        total += labels.size(0)\n",
        "        correct += (predicted == labels).sum().item()\n",
        "\n",
        "    print('Test Accuracy of the model on the 10000 test images: {} %'.format(100 * correct / total))"
      ],
      "execution_count": null,
      "outputs": [
        {
          "output_type": "stream",
          "text": [
            "Test Accuracy of the model on the 10000 test images: 98.87 %\n"
          ],
          "name": "stdout"
        }
      ]
    },
    {
      "cell_type": "code",
      "metadata": {
        "id": "-k-lcsd71I0d"
      },
      "source": [
        "# Model checkpoint saving\n",
        "torch.save(mdl.state_dict(), 'mdl.ckpt')"
      ],
      "execution_count": null,
      "outputs": []
    },
    {
      "cell_type": "markdown",
      "metadata": {
        "id": "be3mY_HuDsgG"
      },
      "source": [
        "## Conclusion\n",
        "\n",
        "Base model Accuracy: 99.06% (with no initialization & Adam optimizer)\n",
        "He Init model Accuracy: \n",
        "1.   Adding He initialization (Kaiming) resulted in an accuracy of 98.87%\n",
        "2.   Adding Nadam optimizer resulted in an accuracy of 98.83% which is a drop from base model accuracy\n",
        "3.   Combining the two modification yielded an accuracy of 98.87% (also a drop)\n",
        "\n"
      ]
    }
  ]
}